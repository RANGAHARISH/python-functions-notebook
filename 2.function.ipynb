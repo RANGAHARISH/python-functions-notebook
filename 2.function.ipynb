{
 "cells": [
  {
   "cell_type": "code",
   "execution_count": 4,
   "id": "593c6a30-08c2-4630-95ae-36fb3da2e76b",
   "metadata": {},
   "outputs": [
    {
     "data": {
      "text/plain": [
       "6"
      ]
     },
     "execution_count": 4,
     "metadata": {},
     "output_type": "execute_result"
    }
   ],
   "source": [
    "# A function is a piece of code that runs when it is called. \n",
    "# Function is used for code reusability.\n",
    "\n",
    "##function syntax\n",
    "\"\"\"def function name():#function definition\n",
    "    .\n",
    "     .          #function body\n",
    "      .\n",
    "function name() #function call\"\"\"\n",
    "\n",
    "#1.function example def and return value\n",
    "##def(This is used to define a function)\n",
    "##parameters(The variables used in function definition)\n",
    "##arguments(The value we pass whiling function call)\n",
    "\n",
    "def add(a,b):#function definition\n",
    "    return(a+b)#function body\n",
    "add(3,3)#function call    "
   ]
  },
  {
   "cell_type": "code",
   "execution_count": 9,
   "id": "9c1a2711-79ad-4540-be76-bfb972b6a148",
   "metadata": {},
   "outputs": [
    {
     "data": {
      "text/plain": [
       "6"
      ]
     },
     "execution_count": 9,
     "metadata": {},
     "output_type": "execute_result"
    }
   ],
   "source": [
    "#2.Positional and keyword Arguments\n",
    "\n",
    "##positional(values assign by its order)\n",
    "def func(a,b,c):\n",
    "    return(a+b+c) \n",
    "func(1,2,3)\n"
   ]
  },
  {
   "cell_type": "code",
   "execution_count": 10,
   "id": "bd1ac43b-dcdf-4155-b2a0-fa8ad9f46926",
   "metadata": {},
   "outputs": [
    {
     "data": {
      "text/plain": [
       "2"
      ]
     },
     "execution_count": 10,
     "metadata": {},
     "output_type": "execute_result"
    }
   ],
   "source": [
    "##keyword Arguments(values are assigned by user)\n",
    "\n",
    "def func(a,b,c):\n",
    "    return(a+b-c) \n",
    "func(a=1,c=2,b=3)"
   ]
  },
  {
   "cell_type": "code",
   "execution_count": 18,
   "id": "e3060fd7-dd4c-42a1-a002-7fc399d94852",
   "metadata": {},
   "outputs": [
    {
     "data": {
      "text/plain": [
       "'hello,sir'"
      ]
     },
     "execution_count": 18,
     "metadata": {},
     "output_type": "execute_result"
    }
   ],
   "source": [
    "#3.Default value\n",
    "##default value(this method uses default value when no value is passed to variable)\n",
    "def greet(name=\"sir\"):\n",
    "    return(\"hello,\"+name)\n",
    "greet()#no value is passed so its uses default sir as value\n",
    "\n",
    "#greet(\"harish\") #value is passed so it uses harish as value"
   ]
  },
  {
   "cell_type": "code",
   "execution_count": 30,
   "id": "18926795-924f-422e-858b-cbda4cd06d1c",
   "metadata": {},
   "outputs": [
    {
     "data": {
      "text/plain": [
       "(1, 2, 3)"
      ]
     },
     "execution_count": 30,
     "metadata": {},
     "output_type": "execute_result"
    }
   ],
   "source": [
    "#4.variable length arguments\n",
    "##arbitary arguments( it is denoted by * (*args))\n",
    "### it is used, when user assign multiple values to same variable.\n",
    "### the values store in tuples format\n",
    "\n",
    "def value(*a,):\n",
    "    return(a)\n",
    "value(1,2,3)    "
   ]
  },
  {
   "cell_type": "code",
   "execution_count": 34,
   "id": "d13f8975-fbbc-4d39-be93-946f76070333",
   "metadata": {},
   "outputs": [
    {
     "data": {
      "text/plain": [
       "{'a': 1, 'b': 2, 'c': 3}"
      ]
     },
     "execution_count": 34,
     "metadata": {},
     "output_type": "execute_result"
    }
   ],
   "source": [
    "##keyword argument(it is denoted by **(**kwargs))\n",
    "#It is used when we need to assign values to variables.\n",
    "###It stores values like a dictionary.\n",
    "\n",
    "def values(**a):\n",
    "    return(a)\n",
    "values(a=1,b=2,c=3)    \n"
   ]
  },
  {
   "cell_type": "code",
   "execution_count": 10,
   "id": "b87b1348-7ebf-425d-bfb5-54752965a7cb",
   "metadata": {},
   "outputs": [
    {
     "data": {
      "text/plain": [
       "120"
      ]
     },
     "execution_count": 10,
     "metadata": {},
     "output_type": "execute_result"
    }
   ],
   "source": [
    "#5.Recursion\n",
    "## A function that calls itself to solve smaller problems or until the task is completed \n",
    "\n",
    "### Find the factorial of n using a function. \n",
    "\n",
    "def factorial(n):\n",
    "    if n==0:\n",
    "     return 1\n",
    "    else:\n",
    "     return n*factorial(n-1)\n",
    "factorial(5)    "
   ]
  },
  {
   "cell_type": "code",
   "execution_count": 21,
   "id": "e4cc1220-2f0c-4b2d-85ee-6bc1e8e35f20",
   "metadata": {},
   "outputs": [
    {
     "name": "stdout",
     "output_type": "stream",
     "text": [
      "16\n"
     ]
    }
   ],
   "source": [
    "#6.Anonymous/lambda function \n",
    "##Anonymous = no name\n",
    "##Lambda function is defined using lambda keyword\n",
    "##one line function without a name \n",
    "\n",
    "#Implement a lambda function \n",
    "square=lambda x:x*x\n",
    "print(square(4))\n"
   ]
  },
  {
   "cell_type": "code",
   "execution_count": 27,
   "id": "10c4f698-2144-46e9-b42a-7bc66dfb8222",
   "metadata": {},
   "outputs": [
    {
     "name": "stdout",
     "output_type": "stream",
     "text": [
      "5\n"
     ]
    }
   ],
   "source": [
    "#7.scope of functions :global,local,non-local\n",
    "##global:-variable declared out side the function \n",
    "x=5\n",
    "def value():\n",
    "    print(x)\n",
    "value()"
   ]
  },
  {
   "cell_type": "code",
   "execution_count": 38,
   "id": "0c3aea73-a0db-44a6-b74e-0bd7d9168f9a",
   "metadata": {},
   "outputs": [
    {
     "name": "stdout",
     "output_type": "stream",
     "text": [
      "10\n"
     ]
    }
   ],
   "source": [
    "##local:-variable declared inside the function\n",
    "def value():\n",
    "    y=10\n",
    "    print(y)\n",
    "value()    "
   ]
  },
  {
   "cell_type": "code",
   "execution_count": 94,
   "id": "b70dcecb-283b-446c-94c5-3f253e70f141",
   "metadata": {},
   "outputs": [
    {
     "name": "stdout",
     "output_type": "stream",
     "text": [
      "inner: inner\n",
      "outer: inner\n"
     ]
    }
   ],
   "source": [
    "##non-local:-used or variable declared in nested function\n",
    "### example use case in banks balance-withdrawal-deposit-balance.\n",
    "def outer():\n",
    "    z =\"outer\"\n",
    "    def inner():\n",
    "        nonlocal z\n",
    "        z =\"inner\"\n",
    "        print(\"inner:\",z)\n",
    "    inner()\n",
    "    print(\"outer:\",z)\n",
    "outer()    "
   ]
  },
  {
   "cell_type": "code",
   "execution_count": 149,
   "id": "957598c9-c8bd-464d-90e2-b943b35131f1",
   "metadata": {},
   "outputs": [
    {
     "name": "stdout",
     "output_type": "stream",
     "text": [
      "1100\n",
      "1050\n"
     ]
    }
   ],
   "source": [
    "### example use case in banks balance-withdrawal-deposit-balance.\n",
    "\n",
    "def account(intial_balance):\n",
    "    balance=intial_balance\n",
    "    def deposit(amount):\n",
    "        nonlocal balance\n",
    "        balance+=amount\n",
    "        print(balance)\n",
    "    def withdrawal(amount):\n",
    "        nonlocal balance\n",
    "        balance-=amount\n",
    "        print(balance)\n",
    "    return deposit, withdrawal\n",
    "deposit,withdrawal=account(1000)\n",
    "deposit(100)\n",
    "withdrawal(50)\n",
    "\n"
   ]
  },
  {
   "cell_type": "code",
   "execution_count": 152,
   "id": "564a439d-f7f4-4332-8a2a-afb1a7b156ff",
   "metadata": {},
   "outputs": [
    {
     "name": "stdout",
     "output_type": "stream",
     "text": [
      "hello hari\n"
     ]
    }
   ],
   "source": [
    "#8.docstring and comment\n",
    "##docstring:- explains the function role ,(denoted by\"\"\" \"\"\"\")\n",
    "##comment:-explain the line of code,(denoted by #) \n",
    "\n",
    "###example \n",
    "\"\"\"This function greets user with given name\"\"\"\n",
    "def greet(name): \n",
    "    print(\"hello\",name) #this line will print the task\n",
    "greet(\"hari\")    "
   ]
  }
 ],
 "metadata": {
  "kernelspec": {
   "display_name": "Python 3 (ipykernel)",
   "language": "python",
   "name": "python3"
  },
  "language_info": {
   "codemirror_mode": {
    "name": "ipython",
    "version": 3
   },
   "file_extension": ".py",
   "mimetype": "text/x-python",
   "name": "python",
   "nbconvert_exporter": "python",
   "pygments_lexer": "ipython3",
   "version": "3.12.7"
  }
 },
 "nbformat": 4,
 "nbformat_minor": 5
}
